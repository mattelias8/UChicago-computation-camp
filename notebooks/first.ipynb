{
 "cells": [
  {
   "cell_type": "code",
   "execution_count": 14,
   "id": "730e79a0",
   "metadata": {},
   "outputs": [
    {
     "name": "stdout",
     "output_type": "stream",
     "text": [
      "The autoreload extension is already loaded. To reload it, use:\n",
      "  %reload_ext autoreload\n"
     ]
    }
   ],
   "source": [
    "%load_ext autoreload\n",
    "%autoreload 2\n",
    "\n",
    "import camp\n",
    "import numpy as np"
   ]
  },
  {
   "cell_type": "code",
   "execution_count": 13,
   "id": "82fd0a27",
   "metadata": {},
   "outputs": [
    {
     "name": "stdout",
     "output_type": "stream",
     "text": [
      "Hello again one more time, 0.0!\n",
      "Caught an unexpected error: All numbers must be non-zero.\n"
     ]
    }
   ],
   "source": [
    "camp.utils.hello(0.0)\n",
    "\n",
    "try :\n",
    "    camp.utils.compute_mean([0.0, 1.0, 2.0, 3.0])\n",
    "    print(f\"Caught an assertion error: {e}\")\n",
    "except Exception as e:\n",
    "    print(f\"Caught an unexpected error: {e}\")"
   ]
  },
  {
   "cell_type": "code",
   "execution_count": 1,
   "id": "9a75f434",
   "metadata": {},
   "outputs": [
    {
     "name": "stdout",
     "output_type": "stream",
     "text": [
      "Hello, Economics Code Camp!\n",
      "I'm running Python in a container!\n",
      "US GDP growth rate 2020-2021: 8.81%\n"
     ]
    }
   ],
   "source": [
    "print(\"Hello, Economics Code Camp!\")\n",
    "print(f\"I'm running Python in a container!\")\n",
    "\n",
    "# Let's do some basic math\n",
    "gdp_2020 = 21_427_700  # US GDP in millions of dollars\n",
    "gdp_2021 = 23_315_080\n",
    "growth_rate = (gdp_2021 - gdp_2020) / gdp_2020 * 100\n",
    "\n",
    "print(f\"US GDP growth rate 2020-2021: {growth_rate:.2f}%\")"
   ]
  },
  {
   "cell_type": "code",
   "execution_count": null,
   "id": "bc3f7930",
   "metadata": {},
   "outputs": [
    {
     "data": {
      "text/plain": [
       "{'variance': np.float64(0.9684030571589061),\n",
       " 'skewness': np.float64(0.02730485150449397),\n",
       " 'kurtosis': np.float64(-0.06568659923461784)}"
      ]
     },
     "execution_count": 23,
     "metadata": {},
     "output_type": "execute_result"
    }
   ],
   "source": [
    "np.random.seed(0)\n",
    "n = 1000\n",
    "x = np.random.normal(0, 1, n)\n",
    "camp.utils.compute_statistics(x)"
   ]
  }
 ],
 "metadata": {
  "kernelspec": {
   "display_name": "Python 3",
   "language": "python",
   "name": "python3"
  },
  "language_info": {
   "codemirror_mode": {
    "name": "ipython",
    "version": 3
   },
   "file_extension": ".py",
   "mimetype": "text/x-python",
   "name": "python",
   "nbconvert_exporter": "python",
   "pygments_lexer": "ipython3",
   "version": "3.11.13"
  }
 },
 "nbformat": 4,
 "nbformat_minor": 5
}
